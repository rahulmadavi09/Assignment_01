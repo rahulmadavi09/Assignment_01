{
  "nbformat": 4,
  "nbformat_minor": 0,
  "metadata": {
    "colab": {
      "name": "Assignment01.ipynb",
      "provenance": []
    },
    "kernelspec": {
      "name": "python3",
      "display_name": "Python 3"
    },
    "language_info": {
      "name": "python"
    }
  },
  "cells": [
    {
      "cell_type": "markdown",
      "source": [
        "Ouestion 01: \n",
        "**In the below elements which of them are values or an expression? eg:- values can be integer or string and expressions will be mathematical operators.**\n",
        "\n",
        "Answer: \n",
        "\n",
        "1. '*' = Expression\n",
        "\n",
        "2. 'hello'= string\n",
        "\n",
        "3. -87.8 = float\n",
        "\n",
        "4. '-' = Expression\n",
        "\n",
        "5. / = Expression\n",
        "\n",
        "6. '+' = Expression\n",
        "\n",
        "7. 6 = Integer\n",
        "\n",
        "\n",
        "\n",
        "\n"
      ],
      "metadata": {
        "id": "wxSwwoyYvzWk"
      }
    },
    {
      "cell_type": "markdown",
      "source": [
        "Question 02: \n",
        "**What is the difference between string and variable?**\n",
        "\n",
        "Answer:\n",
        "\n",
        "- Variable is a name of the location that can store values like string and integers\n",
        "- String is value which is assigned to variable, string is character type data type\n"
      ],
      "metadata": {
        "id": "8fwpFOEh-a8c"
      }
    },
    {
      "cell_type": "markdown",
      "source": [
        "Question 03: \n",
        "**Describe three different data types ?**\n",
        "\n",
        "Answer:\n",
        "\n",
        "* Integer: It holds numerical values Ex. 1, 2, or 73\n",
        "* String: It holds character values Ex. 'a' or names.\n",
        "* float: It holds decimal values for example 4.5, 3.9 etc.\n",
        "\n"
      ],
      "metadata": {
        "id": "Z4l2lUns-qw4"
      }
    },
    {
      "cell_type": "markdown",
      "source": [
        "Question 04:\n",
        " **What is an expression made up of? What do all expressions do?**\n",
        "\n",
        "Answer:\n",
        "\n",
        "* Expression includes variables and operators, In expression we give input so that we can get output"
      ],
      "metadata": {
        "id": "C17ERO5w-uyL"
      }
    },
    {
      "cell_type": "markdown",
      "source": [
        "Question 05: \n",
        "**This assignment statements, like spam = 10. What is the difference between an expression and a statement?**\n",
        "\n",
        "Answer:\n",
        "* Statements: Statements are nothing but the natural sentences and also statements can be expressions too. We can't execute statements\n",
        "* Expressions: Expressions delivers output. We can execute statements."
      ],
      "metadata": {
        "id": "nrdAQoK4-x0s"
      }
    },
    {
      "cell_type": "markdown",
      "source": [
        "Question 06: \n",
        "**After running the following code, what does the variable bacon contain?**\n",
        "\n",
        "bacon = 22\n",
        "\n",
        "bacon + 1"
      ],
      "metadata": {
        "id": "RILGRSBd5Fza"
      }
    },
    {
      "cell_type": "code",
      "source": [
        "bacon = 22"
      ],
      "metadata": {
        "id": "TH2BhwEU5Eu6"
      },
      "execution_count": 13,
      "outputs": []
    },
    {
      "cell_type": "code",
      "source": [
        "bacon+1"
      ],
      "metadata": {
        "colab": {
          "base_uri": "https://localhost:8080/"
        },
        "id": "kG0dJ7x65U-M",
        "outputId": "bf1eb43b-90e3-4d79-bd2f-d419b806bbf3"
      },
      "execution_count": 14,
      "outputs": [
        {
          "output_type": "execute_result",
          "data": {
            "text/plain": [
              "23"
            ]
          },
          "metadata": {},
          "execution_count": 14
        }
      ]
    },
    {
      "cell_type": "markdown",
      "source": [
        "Question 07: What should the values of the following two terms be?\n",
        "&#39;spam&#39; + &#39;spamspam&#39;\n",
        "&#39;spam&#39; * 3\n",
        "\n",
        "\n",
        "Answer:\n",
        "* spam will get printed as 'spamspamspamspamspamspamspamspamspamspam'"
      ],
      "metadata": {
        "id": "dtZoBL4K5ZSH"
      }
    },
    {
      "cell_type": "code",
      "source": [
        "'spam'+'spamspam''spam'*3"
      ],
      "metadata": {
        "colab": {
          "base_uri": "https://localhost:8080/",
          "height": 35
        },
        "id": "mK6B95s35XlZ",
        "outputId": "5747c32a-ad4b-40c2-82b4-542af6e74c52"
      },
      "execution_count": 15,
      "outputs": [
        {
          "output_type": "execute_result",
          "data": {
            "text/plain": [
              "'spamspamspamspamspamspamspamspamspamspam'"
            ],
            "application/vnd.google.colaboratory.intrinsic+json": {
              "type": "string"
            }
          },
          "metadata": {},
          "execution_count": 15
        }
      ]
    },
    {
      "cell_type": "markdown",
      "source": [
        "Question 08: \n",
        "**Why is eggs a valid variable name while 100 is invalid?**\n",
        "\n",
        "Answer:\n",
        "\n",
        "* Because that's the rule we can eggs as a valid variable name but we try to use numeric value as variable it will throw the error for example \"can't assign to literal\"  as per the rule variable name should start with letter only."
      ],
      "metadata": {
        "id": "-rVx9lEI6Y7h"
      }
    },
    {
      "cell_type": "markdown",
      "source": [
        "Question 09: \n",
        "**What three functions can be used to get the integer, floating-point number, or string version of a value?**\n",
        "\n",
        "Answer:\n",
        "- Integer: int()\n",
        "- Floating-point number: float()\n",
        "- String: str()"
      ],
      "metadata": {
        "id": "IfJWJkSm8JBC"
      }
    },
    {
      "cell_type": "markdown",
      "source": [
        "Question 10: \n",
        "**Why does this expression cause an error? How can you fix it? &#39;I have eaten &#39; + 99 + &#39; burritos.&#39;**\n",
        "\n",
        "\n",
        "Answer:\n",
        "\n",
        "---------------------------------------------------------------------------\n",
        "TypeError                                 Traceback (most recent call last)\n",
        "<ipython-input-22-999472c22316> in <module>()\n",
        "----> 1 ('I have eaten '+99+' burritos.')\n",
        "      2 \n",
        "\n",
        "TypeError: can only concatenate str (not \"int\") to str\n",
        "\n",
        "- As we can see above we can't add/concatenate string variable with integer\n",
        "- varable. data type needs to be of the same data type.\n",
        "- We can fix this by simply adding '' in 99 so that it will become sting as well '99' "
      ],
      "metadata": {
        "id": "cbOhtrSs8hSM"
      }
    },
    {
      "cell_type": "code",
      "source": [
        "'I have eaten '+99+' burritos.'\n",
        "\n"
      ],
      "metadata": {
        "colab": {
          "base_uri": "https://localhost:8080/",
          "height": 183
        },
        "id": "ZUaHzNUM8u4u",
        "outputId": "9b0532f3-e255-4658-96c4-86276c9df0e9"
      },
      "execution_count": 22,
      "outputs": [
        {
          "output_type": "error",
          "ename": "TypeError",
          "evalue": "ignored",
          "traceback": [
            "\u001b[0;31m---------------------------------------------------------------------------\u001b[0m",
            "\u001b[0;31mTypeError\u001b[0m                                 Traceback (most recent call last)",
            "\u001b[0;32m<ipython-input-22-999472c22316>\u001b[0m in \u001b[0;36m<module>\u001b[0;34m()\u001b[0m\n\u001b[0;32m----> 1\u001b[0;31m \u001b[0;34m(\u001b[0m\u001b[0;34m'I have eaten '\u001b[0m\u001b[0;34m+\u001b[0m\u001b[0;36m99\u001b[0m\u001b[0;34m+\u001b[0m\u001b[0;34m' burritos.'\u001b[0m\u001b[0;34m)\u001b[0m\u001b[0;34m\u001b[0m\u001b[0;34m\u001b[0m\u001b[0m\n\u001b[0m\u001b[1;32m      2\u001b[0m \u001b[0;34m\u001b[0m\u001b[0m\n",
            "\u001b[0;31mTypeError\u001b[0m: can only concatenate str (not \"int\") to str"
          ]
        }
      ]
    },
    {
      "cell_type": "code",
      "source": [
        "'I have eaten '+'99'+' burritos.'"
      ],
      "metadata": {
        "colab": {
          "base_uri": "https://localhost:8080/",
          "height": 35
        },
        "id": "D1wPHRx-9A16",
        "outputId": "50454d0f-dbee-4c05-82cf-d1a109f2d637"
      },
      "execution_count": 23,
      "outputs": [
        {
          "output_type": "execute_result",
          "data": {
            "text/plain": [
              "'I have eaten 99 burritos.'"
            ],
            "application/vnd.google.colaboratory.intrinsic+json": {
              "type": "string"
            }
          },
          "metadata": {},
          "execution_count": 23
        }
      ]
    },
    {
      "cell_type": "code",
      "source": [
        ""
      ],
      "metadata": {
        "id": "YGrEuCmr-X8h"
      },
      "execution_count": null,
      "outputs": []
    }
  ]
}